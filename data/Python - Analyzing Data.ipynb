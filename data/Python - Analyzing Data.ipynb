{
 "cells": [
  {
   "cell_type": "markdown",
   "id": "148cbfa4",
   "metadata": {},
   "source": [
    "# INFLAMMATION DATA\n",
    "\n",
    "## Scenario: A Miracle Arthritis Inflammation Cure\n",
    "Our imaginary colleague “Dr. Maverick” has invented a new miracle drug that promises to cure arthritis inflammation flare-ups after only 3 weeks since initially taking the medication! Naturally, we wish to see the clinical trial data, and after months of asking for the data they have finally provided us with a CSV spreadsheet containing the clinical trial data.\n",
    "\n",
    "The CSV file contains the number of inflammation flare-ups per day for the 60 patients in the initial clinical trial, with the trial lasting 40 days. Each row corresponds to a patient, and each column corresponds to a day in the trial. Once a patient has their first inflammation flare-up they take the medication and wait a few weeks for it to take effect and reduce flare-ups.\n",
    "\n",
    "To see how effective the treatment is we would like to:\n",
    "\n",
    "1. Calculate the average inflammation per day across all patients.\n",
    "2. Plot the result to discuss and share with colleagues."
   ]
  },
  {
   "cell_type": "markdown",
   "id": "76a0678f",
   "metadata": {},
   "source": [
    "# Loading data into Python"
   ]
  },
  {
   "cell_type": "code",
   "execution_count": 1,
   "id": "faea99ee",
   "metadata": {},
   "outputs": [],
   "source": [
    "# NumPy = Numerical Python\n",
    "import numpy as np"
   ]
  },
  {
   "cell_type": "code",
   "execution_count": 3,
   "id": "fd63f48c",
   "metadata": {},
   "outputs": [],
   "source": [
    "# calling function loadtxt\n",
    "# loadtxt(file, delimiter)\n",
    "# save data into variable data\n",
    "data = np.loadtxt(fname='inflammation-01.csv', delimiter=',')"
   ]
  },
  {
   "cell_type": "code",
   "execution_count": 4,
   "id": "2be3b156",
   "metadata": {},
   "outputs": [
    {
     "name": "stdout",
     "output_type": "stream",
     "text": [
      "[[0. 0. 1. ... 3. 0. 0.]\n",
      " [0. 1. 2. ... 1. 0. 1.]\n",
      " [0. 1. 1. ... 2. 1. 1.]\n",
      " ...\n",
      " [0. 1. 1. ... 1. 1. 1.]\n",
      " [0. 0. 0. ... 0. 2. 0.]\n",
      " [0. 0. 1. ... 1. 1. 0.]]\n"
     ]
    }
   ],
   "source": [
    "print(data)"
   ]
  },
  {
   "cell_type": "code",
   "execution_count": 5,
   "id": "1df9fa25",
   "metadata": {},
   "outputs": [
    {
     "name": "stdout",
     "output_type": "stream",
     "text": [
      "<class 'numpy.ndarray'>\n"
     ]
    }
   ],
   "source": [
    "# What type of object is the variable data?\n",
    "print(type(data))"
   ]
  },
  {
   "cell_type": "code",
   "execution_count": 6,
   "id": "2cf09c21",
   "metadata": {},
   "outputs": [
    {
     "name": "stdout",
     "output_type": "stream",
     "text": [
      "float64\n"
     ]
    }
   ],
   "source": [
    "# What type of items/elements are stored in data?\n",
    "print(data.dtype)"
   ]
  },
  {
   "cell_type": "code",
   "execution_count": 7,
   "id": "1fe950f5",
   "metadata": {},
   "outputs": [
    {
     "name": "stdout",
     "output_type": "stream",
     "text": [
      "(60, 40)\n"
     ]
    }
   ],
   "source": [
    "# Size of data\n",
    "print(data.shape)\n",
    "\n",
    "# 60 row, 40 columns"
   ]
  },
  {
   "cell_type": "code",
   "execution_count": 8,
   "id": "d9be76f7",
   "metadata": {},
   "outputs": [
    {
     "name": "stdout",
     "output_type": "stream",
     "text": [
      "first value in data: 0.0\n"
     ]
    }
   ],
   "source": [
    "# Python starts counting at 0\n",
    "print('first value in data:', data[0,0])"
   ]
  },
  {
   "cell_type": "code",
   "execution_count": 10,
   "id": "6d15421f",
   "metadata": {},
   "outputs": [
    {
     "name": "stdout",
     "output_type": "stream",
     "text": [
      "middle value in data: 13.0\n"
     ]
    }
   ],
   "source": [
    "print('middle value in data:', data[30,20])"
   ]
  },
  {
   "cell_type": "markdown",
   "id": "f5ae6372",
   "metadata": {},
   "source": [
    "# Slicing Data"
   ]
  },
  {
   "cell_type": "code",
   "execution_count": 11,
   "id": "52d301c1",
   "metadata": {},
   "outputs": [
    {
     "name": "stdout",
     "output_type": "stream",
     "text": [
      "[[0. 0. 1. 3. 1. 2. 4. 7. 8. 3.]\n",
      " [0. 1. 2. 1. 2. 1. 3. 2. 2. 6.]\n",
      " [0. 1. 1. 3. 3. 2. 6. 2. 5. 9.]\n",
      " [0. 0. 2. 0. 4. 2. 2. 1. 6. 7.]]\n"
     ]
    }
   ],
   "source": [
    "# Ranges do not include the end index\n",
    "# Diff bw upper and lower bounds = number of values in slice\n",
    "# Start at row 0 and go up to, but not including, row 4\n",
    "\n",
    "print(data[0:4, 0:10])"
   ]
  },
  {
   "cell_type": "code",
   "execution_count": 13,
   "id": "3c2a55cf",
   "metadata": {},
   "outputs": [
    {
     "name": "stdout",
     "output_type": "stream",
     "text": [
      "small is:\n",
      "[[2. 3. 0. 0.]\n",
      " [1. 1. 0. 1.]\n",
      " [2. 2. 1. 1.]]\n"
     ]
    }
   ],
   "source": [
    "# Don't have to include lower bound\n",
    "# Python defaults to 0\n",
    "\n",
    "small = data[:3, 36:]\n",
    "print('small is:')\n",
    "print(small)"
   ]
  },
  {
   "cell_type": "markdown",
   "id": "f255017d",
   "metadata": {},
   "source": [
    "# Analyzing data"
   ]
  },
  {
   "cell_type": "code",
   "execution_count": 14,
   "id": "47ac0c96",
   "metadata": {},
   "outputs": [
    {
     "name": "stdout",
     "output_type": "stream",
     "text": [
      "6.14875\n"
     ]
    }
   ],
   "source": [
    "# Mean function takes array as argument\n",
    "print(np.mean(data))"
   ]
  },
  {
   "cell_type": "code",
   "execution_count": 15,
   "id": "3a8310d3",
   "metadata": {},
   "outputs": [
    {
     "name": "stdout",
     "output_type": "stream",
     "text": [
      "Wed Feb  1 17:00:12 2023\n"
     ]
    }
   ],
   "source": [
    "## Not all functions need input but () required\n",
    "import time\n",
    "print(time.ctime())"
   ]
  },
  {
   "cell_type": "code",
   "execution_count": 17,
   "id": "899dbcf3",
   "metadata": {},
   "outputs": [
    {
     "name": "stdout",
     "output_type": "stream",
     "text": [
      "Descriptive Statistics\n",
      "max inflammation: 20.0\n",
      "min inflammation: 0.0\n",
      "std dev: 4.613833197118566\n"
     ]
    }
   ],
   "source": [
    "# Method: Multiple assignment\n",
    "maxval, minval, stdval = np.max(data), np.min(data), np.std(data)\n",
    "\n",
    "print('Descriptive Statistics')\n",
    "print('max inflammation:', maxval)\n",
    "print('min inflammation:', minval)\n",
    "print('std dev:', stdval)\n"
   ]
  },
  {
   "cell_type": "code",
   "execution_count": 18,
   "id": "66637455",
   "metadata": {},
   "outputs": [],
   "source": []
  },
  {
   "cell_type": "markdown",
   "id": "d5636f7f",
   "metadata": {},
   "source": [
    "# To find functions\n",
    "np. tab brings up a list\n",
    "  \n",
    "For help page:\n",
    "1. np.function?\n",
    "2. help(np.function)"
   ]
  },
  {
   "cell_type": "markdown",
   "id": "19268f9b",
   "metadata": {},
   "source": [
    "# Analyzing Individual data"
   ]
  },
  {
   "cell_type": "code",
   "execution_count": 19,
   "id": "f4a39546",
   "metadata": {},
   "outputs": [
    {
     "name": "stdout",
     "output_type": "stream",
     "text": [
      "maximum inflammation for patient 0: 18.0\n"
     ]
    }
   ],
   "source": [
    "patient_0 = data[0,:] # 0 on the first axis (rows), everything on teh second (columns)\n",
    "print('maximum inflammation for patient 0:', np.max(patient_0))"
   ]
  },
  {
   "cell_type": "code",
   "execution_count": 21,
   "id": "2c829e3c",
   "metadata": {},
   "outputs": [
    {
     "name": "stdout",
     "output_type": "stream",
     "text": [
      "maximum inflammation for patient 2: 19.0\n"
     ]
    }
   ],
   "source": [
    "print('maximum inflammation for patient 2:', np.max(data[2,:]))"
   ]
  },
  {
   "cell_type": "markdown",
   "id": "c214ae2b",
   "metadata": {},
   "source": [
    "# Analyzing across axis"
   ]
  },
  {
   "cell_type": "code",
   "execution_count": 23,
   "id": "7f03d348",
   "metadata": {},
   "outputs": [
    {
     "name": "stdout",
     "output_type": "stream",
     "text": [
      "[ 0.          0.45        1.11666667  1.75        2.43333333  3.15\n",
      "  3.8         3.88333333  5.23333333  5.51666667  5.95        5.9\n",
      "  8.35        7.73333333  8.36666667  9.5         9.58333333 10.63333333\n",
      " 11.56666667 12.35       13.25       11.96666667 11.03333333 10.16666667\n",
      " 10.          8.66666667  9.15        7.25        7.33333333  6.58333333\n",
      "  6.06666667  5.95        5.11666667  3.6         3.3         3.56666667\n",
      "  2.48333333  1.5         1.13333333  0.56666667]\n"
     ]
    }
   ],
   "source": [
    "# Axis 0 = rows\n",
    "# Average inflammation for each day across all patients\n",
    "print(np.mean(data, axis=0))"
   ]
  },
  {
   "cell_type": "code",
   "execution_count": 24,
   "id": "b8690a72",
   "metadata": {},
   "outputs": [
    {
     "name": "stdout",
     "output_type": "stream",
     "text": [
      "(40,)\n"
     ]
    }
   ],
   "source": [
    "# Check shape of array - should be 40 bc data has 40 cols\n",
    "print(np.mean(data, axis=0).shape)"
   ]
  },
  {
   "cell_type": "code",
   "execution_count": 25,
   "id": "2911fdb9",
   "metadata": {},
   "outputs": [
    {
     "name": "stdout",
     "output_type": "stream",
     "text": [
      "[5.45  5.425 6.1   5.9   5.55  6.225 5.975 6.65  6.625 6.525 6.775 5.8\n",
      " 6.225 5.75  5.225 6.3   6.55  5.7   5.85  6.55  5.775 5.825 6.175 6.1\n",
      " 5.8   6.425 6.05  6.025 6.175 6.55  6.175 6.35  6.725 6.125 7.075 5.725\n",
      " 5.925 6.15  6.075 5.75  5.975 5.725 6.3   5.9   6.75  5.925 7.225 6.15\n",
      " 5.95  6.275 5.7   6.1   6.825 5.975 6.725 5.7   6.25  6.4   7.05  5.9  ]\n"
     ]
    }
   ],
   "source": [
    "# Axis 1 = columns\n",
    "# Average inflammation for each patient across all days\n",
    "print(np.mean(data, axis=1))"
   ]
  },
  {
   "cell_type": "code",
   "execution_count": 26,
   "id": "6aa9cca0",
   "metadata": {},
   "outputs": [
    {
     "name": "stdout",
     "output_type": "stream",
     "text": [
      "(60,)\n"
     ]
    }
   ],
   "source": [
    "# Shape should be 60 bc data has 50 rows\n",
    "print(np.mean(data, axis=1).shape)"
   ]
  },
  {
   "cell_type": "markdown",
   "id": "e917ebf2",
   "metadata": {},
   "source": [
    "# EXERCISES"
   ]
  },
  {
   "cell_type": "markdown",
   "id": "aec739b2",
   "metadata": {},
   "source": [
    "## Slicing Strings"
   ]
  },
  {
   "cell_type": "code",
   "execution_count": 29,
   "id": "780090b8",
   "metadata": {},
   "outputs": [
    {
     "name": "stdout",
     "output_type": "stream",
     "text": [
      "first 3 chars: oxy\n",
      "last 3 chars: gen\n"
     ]
    }
   ],
   "source": [
    "element = 'oxygen'\n",
    "print('first 3 chars:', element[0:3])\n",
    "print('last 3 chars:', element[3:6])"
   ]
  },
  {
   "cell_type": "code",
   "execution_count": 30,
   "id": "ac801135",
   "metadata": {},
   "outputs": [
    {
     "name": "stdout",
     "output_type": "stream",
     "text": [
      "oxyg\n",
      "en\n",
      "oxygen\n"
     ]
    }
   ],
   "source": [
    "print(element[:4]) # oxyg\n",
    "print(element[4:]) # gen - WRONG - counted wrong\n",
    "print(element[:]) # oxygen"
   ]
  },
  {
   "cell_type": "code",
   "execution_count": 31,
   "id": "a73ae785",
   "metadata": {},
   "outputs": [
    {
     "name": "stdout",
     "output_type": "stream",
     "text": [
      "n\n",
      "e\n"
     ]
    }
   ],
   "source": [
    "print(element[-1]) # e - WRONG - in reverse, use human counting\n",
    "print(element[-2]) # g - WRONG - same as above error"
   ]
  },
  {
   "cell_type": "code",
   "execution_count": 32,
   "id": "dd9c643b",
   "metadata": {},
   "outputs": [
    {
     "name": "stdout",
     "output_type": "stream",
     "text": [
      "xyge\n"
     ]
    }
   ],
   "source": [
    "print(element[1:-1]) # xygen - WRONG - doesn't include last value in range"
   ]
  },
  {
   "cell_type": "code",
   "execution_count": 33,
   "id": "7356e8f8",
   "metadata": {},
   "outputs": [
    {
     "name": "stdout",
     "output_type": "stream",
     "text": [
      "gen\n"
     ]
    }
   ],
   "source": [
    "print(element[-3:]) # last three chars? gen"
   ]
  },
  {
   "cell_type": "code",
   "execution_count": 37,
   "id": "cbaa3fcd",
   "metadata": {},
   "outputs": [
    {
     "name": "stdout",
     "output_type": "stream",
     "text": [
      "try\n",
      "one\n",
      "hi\n"
     ]
    }
   ],
   "source": [
    "t1 = 'carpentry'\n",
    "t2 = 'clone'\n",
    "t3 = 'hi'\n",
    "\n",
    "print(t1[-3:]) # try\n",
    "print(t2[-3:]) # one\n",
    "print(t3[-3:]) # hi"
   ]
  },
  {
   "cell_type": "markdown",
   "id": "626ebe33",
   "metadata": {},
   "source": [
    "## Thin Slices"
   ]
  },
  {
   "cell_type": "code",
   "execution_count": 42,
   "id": "bfa92ce2",
   "metadata": {},
   "outputs": [
    {
     "name": "stdout",
     "output_type": "stream",
     "text": [
      "[]\n",
      "(0, 0)\n"
     ]
    }
   ],
   "source": [
    "# If element [3:3] is an empty string, what will below display\n",
    "print(data[3:3, 4:4]) # [] empty array\n",
    "print(data[3:3, 4:4].shape) # 0 rows, 0 cols"
   ]
  },
  {
   "cell_type": "code",
   "execution_count": 43,
   "id": "a85458ed",
   "metadata": {},
   "outputs": [
    {
     "name": "stdout",
     "output_type": "stream",
     "text": [
      "[]\n",
      "(0, 40)\n"
     ]
    }
   ],
   "source": [
    "print(data[3:3,:]) # [] empty bc there is no row value given\n",
    "print(data[3:3,:].shape) # 0 rows, 40 cols"
   ]
  },
  {
   "cell_type": "markdown",
   "id": "9614dc7e",
   "metadata": {},
   "source": [
    "## Stacking Arrays"
   ]
  },
  {
   "cell_type": "code",
   "execution_count": 45,
   "id": "4eed9113",
   "metadata": {},
   "outputs": [
    {
     "name": "stdout",
     "output_type": "stream",
     "text": [
      "A = \n",
      "[[1 2 3]\n",
      " [4 5 6]\n",
      " [7 8 9]]\n",
      "B = \n",
      "[[1 2 3 1 2 3]\n",
      " [4 5 6 4 5 6]\n",
      " [7 8 9 7 8 9]]\n",
      "C = \n",
      "[[1 2 3]\n",
      " [4 5 6]\n",
      " [7 8 9]\n",
      " [1 2 3]\n",
      " [4 5 6]\n",
      " [7 8 9]]\n"
     ]
    }
   ],
   "source": [
    "# vstack = vertical stacking\n",
    "# hstack = horizontal stacking\n",
    "\n",
    "A = np.array([[1,2,3], [4,5,6], [7, 8, 9]])\n",
    "print('A = ')\n",
    "print(A)\n",
    "\n",
    "B = np.hstack([A, A])\n",
    "print('B = ')\n",
    "print(B)\n",
    "\n",
    "C = np.vstack([A, A])\n",
    "print('C = ')\n",
    "print(C)"
   ]
  },
  {
   "cell_type": "markdown",
   "id": "28b3b1d0",
   "metadata": {},
   "source": [
    "### slice the first and last columns of A, and stacks them into a 3x2 array"
   ]
  },
  {
   "cell_type": "code",
   "execution_count": 50,
   "id": "b05fa1ea",
   "metadata": {},
   "outputs": [
    {
     "name": "stdout",
     "output_type": "stream",
     "text": [
      "[[1 3]\n",
      " [4 6]\n",
      " [7 9]]\n"
     ]
    }
   ],
   "source": [
    "# Option 1\n",
    "\n",
    "sliceA = np.hstack((A[:,:1], A[:,-1:]))\n",
    "print(sliceA)"
   ]
  },
  {
   "cell_type": "code",
   "execution_count": 51,
   "id": "2013f827",
   "metadata": {},
   "outputs": [
    {
     "name": "stdout",
     "output_type": "stream",
     "text": [
      "[1 4 7]\n"
     ]
    }
   ],
   "source": [
    "# produces a 1D array that will not stack correctly\n",
    "print(A[:,0])"
   ]
  },
  {
   "cell_type": "code",
   "execution_count": 55,
   "id": "b8244104",
   "metadata": {},
   "outputs": [
    {
     "name": "stdout",
     "output_type": "stream",
     "text": [
      "[1 4 7 1 4 7]\n"
     ]
    }
   ],
   "source": [
    "t = np.hstack((A[:,0], A[:,0]))\n",
    "print(t)"
   ]
  },
  {
   "cell_type": "code",
   "execution_count": 56,
   "id": "d6da41c8",
   "metadata": {},
   "outputs": [
    {
     "name": "stdout",
     "output_type": "stream",
     "text": [
      "[[1]\n",
      " [4]\n",
      " [7]]\n"
     ]
    }
   ],
   "source": [
    "# produces a array of single digit arrays\n",
    "print(A[:,:1])"
   ]
  },
  {
   "cell_type": "code",
   "execution_count": 57,
   "id": "d1ad9caa",
   "metadata": {},
   "outputs": [
    {
     "name": "stdout",
     "output_type": "stream",
     "text": [
      "[[1 3]\n",
      " [4 6]\n",
      " [7 9]]\n"
     ]
    }
   ],
   "source": [
    "# Option 2\n",
    "# Numpy delete to delete second column\n",
    "\n",
    "D = np.delete(A, 1, 1)\n",
    "print(D)"
   ]
  },
  {
   "cell_type": "markdown",
   "id": "f67a09d8",
   "metadata": {},
   "source": [
    "## Change In Inflammation\n",
    "The patient data is longitudinal in the sense that each row represents a series of observations relating to one individual. This means that the change in inflammation over time is a meaningful concept. Let’s find out how to calculate changes in the data contained in an array with NumPy.\n",
    "\n",
    "The numpy.diff() function takes an array and returns the differences between two successive values. Let’s use it to examine the changes each day across the first week of patient 3 from our inflammation dataset."
   ]
  },
  {
   "cell_type": "code",
   "execution_count": 58,
   "id": "bcaf091b",
   "metadata": {},
   "outputs": [
    {
     "name": "stdout",
     "output_type": "stream",
     "text": [
      "[0. 0. 2. 0. 4. 2. 2.]\n"
     ]
    }
   ],
   "source": [
    "pt3_wk1 = data[3,:7]\n",
    "print(pt3_wk1)"
   ]
  },
  {
   "cell_type": "code",
   "execution_count": 60,
   "id": "de2bfc70",
   "metadata": {},
   "outputs": [
    {
     "data": {
      "text/plain": [
       "array([ 0.,  2., -2.,  4., -2.,  0.])"
      ]
     },
     "execution_count": 60,
     "metadata": {},
     "output_type": "execute_result"
    }
   ],
   "source": [
    "# np.diff(pt3_wk1) is essentially doing this\n",
    "# [0-0, 2-0, 0-2, 4-0,2-4, 2-2]\n",
    "\n",
    "np.diff(pt3_wk1)"
   ]
  },
  {
   "cell_type": "markdown",
   "id": "794c4b61",
   "metadata": {},
   "source": [
    "Note that the array of differences is shorter by one element (length 6).\n",
    "\n",
    "When calling numpy.diff with a multi-dimensional array, an axis argument may be passed to the function to specify which axis to process. When applying numpy.diff to our 2D inflammation array data, which axis would we specify?"
   ]
  },
  {
   "cell_type": "code",
   "execution_count": 68,
   "id": "80a78d7a",
   "metadata": {},
   "outputs": [
    {
     "name": "stdout",
     "output_type": "stream",
     "text": [
      "[[ 0.  1.  2. ...  1. -3.  0.]\n",
      " [ 1.  1. -1. ...  0. -1.  1.]\n",
      " [ 1.  0.  2. ...  0. -1.  0.]\n",
      " ...\n",
      " [ 1.  0.  0. ... -1.  0.  0.]\n",
      " [ 0.  0.  1. ... -2.  2. -2.]\n",
      " [ 0.  1. -1. ... -2.  0. -1.]]\n"
     ]
    }
   ],
   "source": [
    "# we want difference bw columns so axis 1\n",
    "\n",
    "diffs = np.diff(data, axis=1)\n",
    "print(diffs)"
   ]
  },
  {
   "cell_type": "markdown",
   "id": "af052c8a",
   "metadata": {},
   "source": [
    "If the shape of an individual data file is (60, 40) (60 rows and 40 columns), what would the shape of the array be after you run the diff() function and why?"
   ]
  },
  {
   "cell_type": "code",
   "execution_count": 63,
   "id": "a37441e8",
   "metadata": {},
   "outputs": [],
   "source": [
    "# (60,39) since we lose one dimension - one fewer difference bw columns than total # of cols"
   ]
  },
  {
   "cell_type": "markdown",
   "id": "4ee87cff",
   "metadata": {},
   "source": [
    "How would you find the largest change in inflammation for each patient? Does it matter if the change in inflammation is an increase or a decrease?"
   ]
  },
  {
   "cell_type": "code",
   "execution_count": 72,
   "id": "9506c337",
   "metadata": {},
   "outputs": [
    {
     "name": "stdout",
     "output_type": "stream",
     "text": [
      "[ 7. 12. 11. 10. 11. 13. 10.  8. 10. 10.  7.  7. 13.  7. 10. 10.  8. 10.\n",
      "  9. 10. 13.  7. 12.  9. 12. 11. 10. 10.  7. 10. 11. 10.  8. 11. 12. 10.\n",
      "  9. 10. 13. 10.  7.  7. 10. 13. 12.  8.  8. 10. 10.  9.  8. 13. 10.  7.\n",
      " 10.  8. 12. 10.  7. 12.]\n"
     ]
    }
   ],
   "source": [
    "maxinf = np.max(diffs, axis=1) # indicate axis to get info for just that axis\n",
    "print(maxinf)\n",
    "\n",
    "# if it decreases, value will be negative\n"
   ]
  },
  {
   "cell_type": "code",
   "execution_count": 75,
   "id": "62850e36",
   "metadata": {},
   "outputs": [
    {
     "name": "stdout",
     "output_type": "stream",
     "text": [
      "[12. 14. 11. 13. 11. 13. 10. 12. 10. 10. 10. 12. 13. 10. 11. 10. 12. 13.\n",
      "  9. 10. 13.  9. 12.  9. 12. 11. 10. 13.  9. 13. 11. 11.  8. 11. 12. 13.\n",
      "  9. 10. 13. 11. 11. 13. 11. 13. 13. 10.  9. 10. 10.  9.  9. 13. 10.  9.\n",
      " 10. 11. 13. 10. 10. 12.]\n"
     ]
    }
   ],
   "source": [
    "# if interested in magnitude of change - look at abs value\n",
    "maxinfabs = np.max(np.absolute(diffs), axis=1)\n",
    "print(maxinfabs)"
   ]
  },
  {
   "cell_type": "markdown",
   "id": "1b5fb189",
   "metadata": {},
   "source": [
    "# Use numpy.mean(array), numpy.max(array), and numpy.min(array) to calculate simple statistics.\n",
    "\n",
    "# Use numpy.mean(array, axis=0) or numpy.mean(array, axis=1) to calculate statistics across the specified axis."
   ]
  },
  {
   "cell_type": "code",
   "execution_count": null,
   "id": "7247f6b8",
   "metadata": {},
   "outputs": [],
   "source": []
  }
 ],
 "metadata": {
  "kernelspec": {
   "display_name": "Python 3",
   "language": "python",
   "name": "python3"
  },
  "language_info": {
   "codemirror_mode": {
    "name": "ipython",
    "version": 3
   },
   "file_extension": ".py",
   "mimetype": "text/x-python",
   "name": "python",
   "nbconvert_exporter": "python",
   "pygments_lexer": "ipython3",
   "version": "3.8.8"
  }
 },
 "nbformat": 4,
 "nbformat_minor": 5
}
