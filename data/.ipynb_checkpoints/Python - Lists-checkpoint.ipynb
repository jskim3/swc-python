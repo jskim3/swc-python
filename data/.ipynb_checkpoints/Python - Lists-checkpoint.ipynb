{
 "cells": [
  {
   "cell_type": "markdown",
   "id": "f2e1f664",
   "metadata": {},
   "source": [
    "# Storing Multiple Values in Lists"
   ]
  },
  {
   "cell_type": "code",
   "execution_count": 24,
   "id": "9df588e1",
   "metadata": {},
   "outputs": [
    {
     "name": "stdout",
     "output_type": "stream",
     "text": [
      "odds are: [1, 3, 5, 7]\n"
     ]
    }
   ],
   "source": [
    "# Create a python list with brackets\n",
    "odds = [1,3,5,7]\n",
    "print('odds are:', odds)"
   ]
  },
  {
   "cell_type": "code",
   "execution_count": 25,
   "id": "189a8351",
   "metadata": {},
   "outputs": [
    {
     "name": "stdout",
     "output_type": "stream",
     "text": [
      "first element: 1\n",
      "last element: 7\n",
      "\"-1\" element: 7\n"
     ]
    }
   ],
   "source": [
    "# Access list elements with numbered position\n",
    "print('first element:', odds[0]) # 1\n",
    "print('last element:', odds[3]) # 7\n",
    "print('\"-1\" element:', odds[-1]) # 7"
   ]
  },
  {
   "cell_type": "code",
   "execution_count": 3,
   "id": "36e2c73c",
   "metadata": {},
   "outputs": [
    {
     "name": "stdout",
     "output_type": "stream",
     "text": [
      "names is originally: ['Curie', 'Darwing', 'Turing']\n",
      "final value of names: ['Curie', 'Darwin', 'Turing']\n"
     ]
    },
    {
     "ename": "TypeError",
     "evalue": "'str' object does not support item assignment",
     "output_type": "error",
     "traceback": [
      "\u001b[0;31m---------------------------------------------------------------------------\u001b[0m",
      "\u001b[0;31mTypeError\u001b[0m                                 Traceback (most recent call last)",
      "\u001b[0;32m<ipython-input-3-665680fa5dd1>\u001b[0m in \u001b[0;36m<module>\u001b[0;34m\u001b[0m\n\u001b[1;32m      9\u001b[0m \u001b[0;31m# strings are immutable (can't change elements)\u001b[0m\u001b[0;34m\u001b[0m\u001b[0;34m\u001b[0m\u001b[0;34m\u001b[0m\u001b[0m\n\u001b[1;32m     10\u001b[0m \u001b[0mname\u001b[0m \u001b[0;34m=\u001b[0m \u001b[0;34m'Darwin'\u001b[0m\u001b[0;34m\u001b[0m\u001b[0;34m\u001b[0m\u001b[0m\n\u001b[0;32m---> 11\u001b[0;31m \u001b[0mname\u001b[0m\u001b[0;34m[\u001b[0m\u001b[0;36m0\u001b[0m\u001b[0;34m]\u001b[0m \u001b[0;34m=\u001b[0m \u001b[0;34m'd'\u001b[0m\u001b[0;34m\u001b[0m\u001b[0;34m\u001b[0m\u001b[0m\n\u001b[0m",
      "\u001b[0;31mTypeError\u001b[0m: 'str' object does not support item assignment"
     ]
    }
   ],
   "source": [
    "# -1 gives last element in list, -2 is second to last\n",
    "# Lists are mutable (can change elements)\n",
    "\n",
    "names = ['Curie', 'Darwing', 'Turing'] # typo in Darwin\n",
    "print('names is originally:', names)\n",
    "names[1]='Darwin'\n",
    "print('final value of names:', names)\n",
    "\n",
    "# strings are immutable (can't change elements)\n",
    "name = 'Darwin'\n",
    "name[0] = 'd' # throws TypeError: 'str' object does not support item reassignment"
   ]
  },
  {
   "cell_type": "code",
   "execution_count": 26,
   "id": "371e5533",
   "metadata": {},
   "outputs": [
    {
     "name": "stdout",
     "output_type": "stream",
     "text": [
      "My salsa: ['peppers', 'onions', 'cilantro', 'tomatoes']\n",
      "Ingredients in my salsa: ['hot peppers', 'onions', 'cilantro', 'tomatoes']\n"
     ]
    }
   ],
   "source": [
    "salsa = ['peppers', 'onions', 'cilantro', 'tomatoes']\n",
    "my_salsa = salsa # my_salsa and salsa point to same list\n",
    "print('My salsa:', my_salsa)\n",
    "\n",
    "salsa[0] = 'hot peppers'\n",
    "print('Ingredients in my salsa:', my_salsa)\n",
    "\n",
    "# my_salsa and salsa both change"
   ]
  },
  {
   "cell_type": "code",
   "execution_count": 27,
   "id": "b3ff4bd2",
   "metadata": {},
   "outputs": [
    {
     "name": "stdout",
     "output_type": "stream",
     "text": [
      "Ingredients in my salsa: ['peppers', 'onions', 'cilantro', 'tomatoes']\n"
     ]
    }
   ],
   "source": [
    "salsa = ['peppers', 'onions', 'cilantro', 'tomatoes']\n",
    "my_salsa = list(salsa) # list function makes a copy of the list\n",
    "\n",
    "salsa[0] = 'hot peppers'\n",
    "print('Ingredients in my salsa:', my_salsa)\n"
   ]
  },
  {
   "cell_type": "markdown",
   "id": "390d3438",
   "metadata": {},
   "source": [
    "## Nested Lists"
   ]
  },
  {
   "cell_type": "code",
   "execution_count": 16,
   "id": "2a6327e0",
   "metadata": {},
   "outputs": [
    {
     "name": "stdout",
     "output_type": "stream",
     "text": [
      "[['pepper', 'zucchini', 'onion']]\n"
     ]
    }
   ],
   "source": [
    "x = [['pepper', 'zucchini', 'onion'], ['cabbage', 'lettuce', 'garlic'], ['apple', 'pear', 'banana']]\n",
    "print([x[0]])"
   ]
  },
  {
   "cell_type": "code",
   "execution_count": 17,
   "id": "7ca6687d",
   "metadata": {},
   "outputs": [
    {
     "name": "stdout",
     "output_type": "stream",
     "text": [
      "['pepper', 'zucchini', 'onion']\n"
     ]
    }
   ],
   "source": [
    "print(x[0])"
   ]
  },
  {
   "cell_type": "code",
   "execution_count": 18,
   "id": "2b83b5ee",
   "metadata": {},
   "outputs": [
    {
     "name": "stdout",
     "output_type": "stream",
     "text": [
      "pepper\n"
     ]
    }
   ],
   "source": [
    "print(x[0][0])"
   ]
  },
  {
   "cell_type": "markdown",
   "id": "d77028ff",
   "metadata": {},
   "source": [
    "## Changing individual elements in lists"
   ]
  },
  {
   "cell_type": "markdown",
   "id": "5dad2534",
   "metadata": {},
   "source": [
    "### Append item to list"
   ]
  },
  {
   "cell_type": "code",
   "execution_count": 28,
   "id": "e0d44262",
   "metadata": {},
   "outputs": [
    {
     "name": "stdout",
     "output_type": "stream",
     "text": [
      "odds after adding a value: [1, 3, 5, 7, 11]\n"
     ]
    }
   ],
   "source": [
    "odds.append(11)\n",
    "print('odds after adding a value:', odds)"
   ]
  },
  {
   "cell_type": "markdown",
   "id": "c959bfc0",
   "metadata": {},
   "source": [
    "### Remove item from list"
   ]
  },
  {
   "cell_type": "code",
   "execution_count": 29,
   "id": "432b5181",
   "metadata": {},
   "outputs": [
    {
     "name": "stdout",
     "output_type": "stream",
     "text": [
      "odds after removing the first element: [3, 5, 7, 11]\n",
      "removed_element: 1\n"
     ]
    }
   ],
   "source": [
    "removed_element = odds.pop(0)\n",
    "print('odds after removing the first element:', odds)\n",
    "print('removed_element:', removed_element)"
   ]
  },
  {
   "cell_type": "markdown",
   "id": "a80684c9",
   "metadata": {},
   "source": [
    "### Reversing list order"
   ]
  },
  {
   "cell_type": "code",
   "execution_count": 35,
   "id": "2ac45924",
   "metadata": {},
   "outputs": [
    {
     "name": "stdout",
     "output_type": "stream",
     "text": [
      "odds after reversing: [3, 5, 7, 11]\n"
     ]
    }
   ],
   "source": [
    "rev_odds = odds.reverse()\n",
    "print('odds after reversing:', odds)"
   ]
  },
  {
   "cell_type": "code",
   "execution_count": 38,
   "id": "8ba2f5e0",
   "metadata": {},
   "outputs": [
    {
     "name": "stdout",
     "output_type": "stream",
     "text": [
      "odds: [3, 5, 7]\n",
      "primes: [3, 5, 7]\n",
      "primes: [3, 5, 7, 2]\n",
      "odds: [3, 5, 7, 2]\n"
     ]
    }
   ],
   "source": [
    "odds = [3,5,7]\n",
    "primes = odds\n",
    "print('odds:', odds)\n",
    "print('primes:', primes)\n",
    "\n",
    "# Since both variables point to same list, changing one, makes the same change to the other\n",
    "primes.append(2)\n",
    "print('primes:', primes)\n",
    "print('odds:', odds)"
   ]
  },
  {
   "cell_type": "code",
   "execution_count": 40,
   "id": "e2706996",
   "metadata": {},
   "outputs": [
    {
     "name": "stdout",
     "output_type": "stream",
     "text": [
      "primes: [3, 5, 7, 2]\n",
      "odss: [3, 5, 7]\n"
     ]
    }
   ],
   "source": [
    "odds = [3,5,7]\n",
    "primes = list(odds)\n",
    "primes.append(2)\n",
    "print('primes:', primes)\n",
    "print('odss:', odds)"
   ]
  },
  {
   "cell_type": "markdown",
   "id": "af7ac574",
   "metadata": {},
   "source": [
    "### Slicing"
   ]
  },
  {
   "cell_type": "code",
   "execution_count": 41,
   "id": "35343cf8",
   "metadata": {},
   "outputs": [
    {
     "name": "stdout",
     "output_type": "stream",
     "text": [
      "group: Drosophila\n",
      "species: melanogaster\n",
      "autosomes: ['2', '3', '4']\n",
      "last: 4\n"
     ]
    }
   ],
   "source": [
    "binomial_name = 'Drosophila melanogaster'\n",
    "group = binomial_name[0:10]\n",
    "print('group:', group)\n",
    "\n",
    "species = binomial_name[11:23]\n",
    "print('species:', species)\n",
    "\n",
    "chromosomes = ['X', 'Y', '2', '3', '4']\n",
    "autosomes = chromosomes[2:5]\n",
    "print('autosomes:', autosomes)\n",
    "\n",
    "last = chromosomes[-1]\n",
    "print('last:', last)"
   ]
  },
  {
   "cell_type": "markdown",
   "id": "736652d6",
   "metadata": {},
   "source": [
    "### Slicing from the end"
   ]
  },
  {
   "cell_type": "code",
   "execution_count": 1,
   "id": "8a4dbe36",
   "metadata": {},
   "outputs": [],
   "source": [
    "# Use slicing to access only the last four characters of a string or entries of a list.\n",
    "\n",
    "string_for_slicing = 'Observation date: 02-Feb-2013'\n",
    "list_for_slicing = [['fluorine', 'F'], ['chlorine', 'Cl'], ['bromine', 'Br'],['iodine', 'I'], ['astatine', 'At']]"
   ]
  },
  {
   "cell_type": "code",
   "execution_count": 2,
   "id": "7e2af069",
   "metadata": {},
   "outputs": [
    {
     "name": "stdout",
     "output_type": "stream",
     "text": [
      "2013\n"
     ]
    }
   ],
   "source": [
    "print(string_for_slicing[-4:])"
   ]
  },
  {
   "cell_type": "code",
   "execution_count": 9,
   "id": "a7c7d348",
   "metadata": {},
   "outputs": [
    {
     "name": "stdout",
     "output_type": "stream",
     "text": [
      "[['chlorine', 'Cl'], ['bromine', 'Br'], ['iodine', 'I'], ['astatine', 'At']]\n"
     ]
    }
   ],
   "source": [
    "print(list_for_slicing[-4:])"
   ]
  },
  {
   "cell_type": "markdown",
   "id": "9bceec79",
   "metadata": {},
   "source": [
    "### Non-continuous slicing"
   ]
  },
  {
   "cell_type": "code",
   "execution_count": 10,
   "id": "ffe9dc04",
   "metadata": {},
   "outputs": [
    {
     "name": "stdout",
     "output_type": "stream",
     "text": [
      "subset [2, 7, 17, 29]\n"
     ]
    }
   ],
   "source": [
    "# Third entry indicates step size\n",
    "# Below shows every third entry\n",
    "\n",
    "primes = [2, 3, 5, 7, 11, 13, 17, 19, 23, 29, 31, 37]\n",
    "subset = primes[0:12:3]\n",
    "print('subset', subset)"
   ]
  },
  {
   "cell_type": "code",
   "execution_count": 11,
   "id": "32f9a541",
   "metadata": {},
   "outputs": [
    {
     "name": "stdout",
     "output_type": "stream",
     "text": [
      "subset [5, 13, 23, 37]\n"
     ]
    }
   ],
   "source": [
    "# Every third item starting with third item\n",
    "subset = primes[2:12:3]\n",
    "print('subset', subset)"
   ]
  },
  {
   "cell_type": "code",
   "execution_count": 13,
   "id": "189dcc16",
   "metadata": {},
   "outputs": [
    {
     "name": "stdout",
     "output_type": "stream",
     "text": [
      "subset: I notpssgre ntesae\n"
     ]
    }
   ],
   "source": [
    "beatles = \"In an octopus's garden in the shade\"\n",
    "beatsub = beatles[0::2] # don't need the zero in the front\n",
    "print('subset:', beatsub)"
   ]
  },
  {
   "cell_type": "markdown",
   "id": "bca575da",
   "metadata": {},
   "source": [
    "### Overloading"
   ]
  },
  {
   "cell_type": "code",
   "execution_count": 14,
   "id": "9b43f726",
   "metadata": {},
   "outputs": [
    {
     "name": "stdout",
     "output_type": "stream",
     "text": [
      "[2, 4, 6, 8, 10, 2, 4, 6, 8, 10]\n"
     ]
    }
   ],
   "source": [
    "# + used with strings means concatenate\n",
    "\n",
    "counts = [2, 4, 6, 8, 10]\n",
    "repeats = counts * 2\n",
    "print(repeats) # my guess: [[2,4,6,8,10], [2,4,6,8,10]]\n",
    "\n",
    "# counts * 2 is equivalent to counts + counts"
   ]
  },
  {
   "cell_type": "code",
   "execution_count": 15,
   "id": "bda48118",
   "metadata": {},
   "outputs": [],
   "source": []
  },
  {
   "cell_type": "code",
   "execution_count": null,
   "id": "a192fbcf",
   "metadata": {},
   "outputs": [],
   "source": []
  }
 ],
 "metadata": {
  "kernelspec": {
   "display_name": "Python 3",
   "language": "python",
   "name": "python3"
  },
  "language_info": {
   "codemirror_mode": {
    "name": "ipython",
    "version": 3
   },
   "file_extension": ".py",
   "mimetype": "text/x-python",
   "name": "python",
   "nbconvert_exporter": "python",
   "pygments_lexer": "ipython3",
   "version": "3.8.8"
  }
 },
 "nbformat": 4,
 "nbformat_minor": 5
}
